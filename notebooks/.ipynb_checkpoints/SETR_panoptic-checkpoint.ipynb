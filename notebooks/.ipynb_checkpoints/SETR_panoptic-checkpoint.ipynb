{
 "cells": [
  {
   "cell_type": "code",
   "execution_count": null,
   "metadata": {},
   "outputs": [],
   "source": [
    "%cd ../mmsegmentation"
   ]
  },
  {
   "cell_type": "code",
   "execution_count": null,
   "metadata": {},
   "outputs": [],
   "source": [
    "import os\n",
    "import subprocess\n",
    "\n",
    "# Define the directory and file path\n",
    "checkpoints_dir = \"checkpoints\"\n",
    "pth_file = os.path.join(checkpoints_dir, \"pspnet_r50-d8_512x1024_40k_cityscapes_20200605_003338-2966598c.pth\")\n",
    "\n",
    "# Check if the checkpoints directory exists\n",
    "if not os.path.exists(checkpoints_dir):\n",
    "    print(\"Creating checkpoints directory...\")\n",
    "    os.makedirs(checkpoints_dir)\n",
    "else:\n",
    "    print(\"checkpoints directory already exists.\")\n",
    "\n",
    "# Check if the .pth file exists\n",
    "if not os.path.isfile(pth_file):\n",
    "    print(\"Downloading pspnet_r50-d8_512x1024_40k_cityscapes_20200605_003338-2966598c.pth...\")\n",
    "    subprocess.run([\n",
    "        \"wget\", \n",
    "        \"https://download.openmmlab.com/mmsegmentation/v0.5/pspnet/pspnet_r50-d8_512x1024_40k_cityscapes/pspnet_r50-d8_512x1024_40k_cityscapes_20200605_003338-2966598c.pth\", \n",
    "        \"-P\", checkpoints_dir\n",
    "    ])\n",
    "else:\n",
    "    print(\"File already exists. Skipping download.\")"
   ]
  },
  {
   "cell_type": "code",
   "execution_count": null,
   "metadata": {
    "pycharm": {
     "is_executing": true
    }
   },
   "outputs": [],
   "source": [
    "import numpy as np\n",
    "import mmcv\n",
    "import torch\n",
    "import matplotlib.pyplot as plt\n",
    "from mmengine.model.utils import revert_sync_batchnorm\n",
    "from mmseg.apis import init_model, inference_model, show_result_pyplot"
   ]
  },
  {
   "cell_type": "code",
   "execution_count": null,
   "metadata": {},
   "outputs": [],
   "source": [
    "import torch\n",
    "print(torch.__version__)"
   ]
  },
  {
   "cell_type": "code",
   "execution_count": null,
   "metadata": {
    "pycharm": {
     "is_executing": true
    }
   },
   "outputs": [],
   "source": [
    "config_file = 'configs/pspnet/pspnet_r50-d8_4xb2-40k_cityscapes-512x1024.py'\n",
    "checkpoint_file = 'checkpoints/pspnet_r50-d8_512x1024_40k_cityscapes_20200605_003338-2966598c.pth'"
   ]
  },
  {
   "cell_type": "code",
   "execution_count": null,
   "metadata": {},
   "outputs": [],
   "source": [
    "# build the model from a config file and a checkpoint file\n",
    "model = init_model(config_file, checkpoint_file, device='cuda:0')"
   ]
  },
  {
   "cell_type": "code",
   "execution_count": null,
   "metadata": {},
   "outputs": [],
   "source": [
    "# test a single image\n",
    "img = '../notebooks/demo.png'\n",
    "img_name = os.path.splitext(os.path.basename(img))[0]\n",
    "print(img_name)\n",
    "if not torch.cuda.is_available():\n",
    "    model = revert_sync_batchnorm(model)\n",
    "result = inference_model(model, img)"
   ]
  },
  {
   "cell_type": "code",
   "execution_count": null,
   "metadata": {},
   "outputs": [],
   "source": [
    "# show the results\n",
    "vis_result = show_result_pyplot(model, img, result, show=False)\n",
    "plt.imshow(vis_result)"
   ]
  },
  {
   "cell_type": "code",
   "execution_count": null,
   "metadata": {},
   "outputs": [],
   "source": [
    "print(img_name)\n",
    "# Ensure the directory exists\n",
    "save_dir = f'../notebooks/SETR_result/{img_name}'\n",
    "os.makedirs(save_dir, exist_ok=True)\n",
    "\n",
    "# Extract the mask\n",
    "# Access the pred_sem_seg attribute from the result object\n",
    "mask = result.pred_sem_seg.data[0].cpu().numpy()\n",
    "\n",
    "# Print out unique class indices in the mask\n",
    "unique_classes = np.unique(mask)\n",
    "print(\"Unique classes in the mask:\", unique_classes)\n",
    "\n",
    "# Define Cityscapes class labels using model.dataset_meta['classes']\n",
    "# Extract class labels from model.dataset_meta['classes']\n",
    "class_labels = model.dataset_meta['classes']\n",
    "\n",
    "# Define Cityscapes class labels using model.dataset_meta['classes']\n",
    "cityscapes_labels = {class_id: class_labels[class_id] for class_id in unique_classes}\n",
    "\n",
    "# Save individual masks for each class and create label data\n",
    "label_data = []\n",
    "for class_id in unique_classes:\n",
    "    class_mask = (mask == class_id).astype(np.uint8) * 255  # Convert to 8-bit image\n",
    "    save_path = os.path.join(save_dir, f'mask_class_{class_id}.png')\n",
    "    mmcv.imwrite(class_mask, save_path)\n",
    "    label = cityscapes_labels.get(class_id, 'unknown')\n",
    "    label_data.append(f\"Label ID: {class_id}, Category: {label}\")\n",
    "\n",
    "# Save label data as a text file\n",
    "labels_file = os.path.join(save_dir, 'labels.txt')\n",
    "with open(labels_file, 'w') as f:\n",
    "    for label_info in label_data:\n",
    "        f.write(f\"{label_info}\\n\")\n",
    "\n",
    "print(f\"Files saved to: {save_dir}\")"
   ]
  },
  {
   "cell_type": "code",
   "execution_count": null,
   "metadata": {},
   "outputs": [],
   "source": [
    "# Clear folder\n",
    "import shutil\n",
    "# Define the folder path you want to delete\n",
    "folder_to_delete = '../notebooks/SETR_result'\n",
    "\n",
    "# Check if the folder exists and delete it\n",
    "if os.path.exists(folder_to_delete):\n",
    "    shutil.rmtree(folder_to_delete)\n",
    "    print(f\"Folder '{folder_to_delete}' has been deleted.\")\n",
    "else:\n",
    "    print(f\"Folder '{folder_to_delete}' does not exist.\")"
   ]
  },
  {
   "cell_type": "code",
   "execution_count": null,
   "metadata": {},
   "outputs": [],
   "source": []
  }
 ],
 "metadata": {
  "kernelspec": {
   "display_name": "Python 3 (ipykernel)",
   "language": "python",
   "name": "python3"
  },
  "language_info": {
   "codemirror_mode": {
    "name": "ipython",
    "version": 3
   },
   "file_extension": ".py",
   "mimetype": "text/x-python",
   "name": "python",
   "nbconvert_exporter": "python",
   "pygments_lexer": "ipython3",
   "version": "3.8.10"
  },
  "pycharm": {
   "stem_cell": {
    "cell_type": "raw",
    "metadata": {
     "collapsed": false
    },
    "source": []
   }
  },
  "vscode": {
   "interpreter": {
    "hash": "f61d5b8fecdd960739697f6c2860080d7b76a5be5d896cb034bdb275ab3ddda0"
   }
  }
 },
 "nbformat": 4,
 "nbformat_minor": 4
}
